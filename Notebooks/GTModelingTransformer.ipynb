{
 "cells": [
  {
   "cell_type": "code",
   "execution_count": 1,
   "id": "9bfc9de7-5595-4f14-9f4f-639e0507e0aa",
   "metadata": {},
   "outputs": [
    {
     "name": "stdout",
     "output_type": "stream",
     "text": [
      "Scanning files for label encoders...\n"
     ]
    },
    {
     "name": "stderr",
     "output_type": "stream",
     "text": [
      "100%|██████████| 230/230 [00:22<00:00, 10.15it/s]\n"
     ]
    },
    {
     "name": "stdout",
     "output_type": "stream",
     "text": [
      "Label encoders saved to label_encoders.pkl\n",
      "Generating .pt sub-chunks...\n"
     ]
    },
    {
     "name": "stderr",
     "output_type": "stream",
     "text": [
      "100%|██████████| 230/230 [02:05<00:00,  1.84it/s]"
     ]
    },
    {
     "name": "stdout",
     "output_type": "stream",
     "text": [
      "✅ Preprocessing complete: 1840 sub-chunks saved to preprocessed_chunks\n"
     ]
    },
    {
     "name": "stderr",
     "output_type": "stream",
     "text": [
      "\n"
     ]
    }
   ],
   "source": [
    "import os\n",
    "import pandas as pd\n",
    "import numpy as np\n",
    "import torch\n",
    "import pickle\n",
    "from sklearn.preprocessing import LabelEncoder\n",
    "from tqdm import tqdm # For progress bar\n",
    "\n",
    "# Paths\n",
    "DATA_DIR = 'block_dataset'  # Your original CSV files\n",
    "OUT_DIR = 'preprocessed_chunks'  # Output .pt files\n",
    "ENCODER_PATH = 'label_encoders.pkl'\n",
    "CHUNK_WIDTH, CHUNK_HEIGHT, CHUNK_DEPTH = 16, 256, 16\n",
    "\n",
    "# Make sure this agrees with the modeling script\n",
    "# If we want to keep Java unchanged we gotta make it 256\n",
    "SUB_CHUNK_HEIGHT = 32 \n",
    "\n",
    "# Create output directory\n",
    "os.makedirs(OUT_DIR, exist_ok=True)\n",
    "\n",
    "# Categorical fields\n",
    "categorical_fields = [\n",
    "    'Block_ID',\n",
    "    'Block_to_Left', 'Block_to_Right',\n",
    "    'Block_Below', 'Block_Above',\n",
    "    'Block_in_Front', 'Block_Behind',\n",
    "    'ChunkBiome', 'Biome'\n",
    "]\n",
    "\n",
    "# Collect all unique values for encoders\n",
    "label_encoders = {field: LabelEncoder() for field in categorical_fields}\n",
    "all_values = {field: set() for field in categorical_fields}\n",
    "\n",
    "csv_files = [os.path.join(DATA_DIR, f) for f in os.listdir(DATA_DIR) if f.endswith('.csv')]\n",
    "\n",
    "# Pass 1: Collect unique values\n",
    "print(\"Scanning files for label encoders...\")\n",
    "for file in tqdm(csv_files):\n",
    "    df = pd.read_csv(file)\n",
    "    for field in categorical_fields:\n",
    "        all_values[field].update(df[field].dropna().unique())\n",
    "\n",
    "for field in categorical_fields:\n",
    "    label_encoders[field].fit(list(all_values[field]))\n",
    "\n",
    "# Save encoders\n",
    "with open(ENCODER_PATH, 'wb') as f:\n",
    "    pickle.dump(label_encoders, f)\n",
    "print(f\"Label encoders saved to {ENCODER_PATH}\")\n",
    "\n",
    "# Pass 2: Generate .pt subchunks\n",
    "print(\"Generating .pt sub-chunks...\")\n",
    "file_count = 0\n",
    "for file in tqdm(csv_files):\n",
    "    df = pd.read_csv(file)\n",
    "\n",
    "    # Filter invalid rows early\n",
    "    df = df[(df['x'] < CHUNK_WIDTH) & (df['y'] < CHUNK_HEIGHT) & (df['z'] < CHUNK_DEPTH)]\n",
    "\n",
    "    # Normalize light\n",
    "    df['Light_Level'] = df['Light_Level'] / 15.0\n",
    "\n",
    "    # Encode categorical features\n",
    "    for key in categorical_fields:\n",
    "        df[key] = label_encoders[key].transform(df[key])\n",
    "\n",
    "    # Iterate over vertical slices\n",
    "    for y_start in range(0, CHUNK_HEIGHT, SUB_CHUNK_HEIGHT):\n",
    "        y_end = y_start + SUB_CHUNK_HEIGHT\n",
    "        sub_df = df[(df['y'] >= y_start) & (df['y'] < y_end)]\n",
    "\n",
    "        # Initialize tensors\n",
    "        input_tensor = np.zeros((CHUNK_WIDTH, SUB_CHUNK_HEIGHT, CHUNK_DEPTH, 10), dtype=np.float32)\n",
    "        output_tensor = np.full((CHUNK_WIDTH, SUB_CHUNK_HEIGHT, CHUNK_DEPTH), -1, dtype=np.int64)\n",
    "\n",
    "        for row in sub_df.itertuples(index=False):\n",
    "            x, y, z = int(row.x), int(row.y) - y_start, int(row.z)\n",
    "            if 0 <= x < CHUNK_WIDTH and 0 <= y < SUB_CHUNK_HEIGHT and 0 <= z < CHUNK_DEPTH:\n",
    "                features = [\n",
    "                    row.ChunkBiome, row.Biome,\n",
    "                    float(row.Is_Surface), float(row.Light_Level),\n",
    "                    row.Block_to_Left, row.Block_to_Right,\n",
    "                    row.Block_Below, row.Block_Above,\n",
    "                    row.Block_in_Front, row.Block_Behind,\n",
    "                ]\n",
    "                input_tensor[x, y, z] = features\n",
    "                output_tensor[x, y, z] = row.Block_ID\n",
    "\n",
    "        # Save to disk\n",
    "        input_tensor = torch.tensor(input_tensor).permute(3, 0, 1, 2)  # [C, X, Y, Z]\n",
    "        output_tensor = torch.tensor(output_tensor)  # [X, Y, Z]\n",
    "\n",
    "        chunk_name = os.path.basename(file).replace('.csv', f'_Y{y_start}.pt')\n",
    "        torch.save((input_tensor, output_tensor), os.path.join(OUT_DIR, chunk_name))\n",
    "        file_count += 1\n",
    "\n",
    "print(f\"✅ Preprocessing complete: {file_count} sub-chunks saved to {OUT_DIR}\")"
   ]
  },
  {
   "cell_type": "code",
   "execution_count": 2,
   "id": "53787de2-b1ef-4116-87e6-50f122fee380",
   "metadata": {},
   "outputs": [
    {
     "name": "stdout",
     "output_type": "stream",
     "text": [
      "Using device: cuda\n"
     ]
    },
    {
     "name": "stderr",
     "output_type": "stream",
     "text": [
      "C:\\Users\\cathe\\AppData\\Local\\Temp\\ipykernel_12300\\3193498667.py:135: FutureWarning: `torch.cuda.amp.GradScaler(args...)` is deprecated. Please use `torch.amp.GradScaler('cuda', args...)` instead.\n",
      "  scaler = torch.cuda.amp.GradScaler(enabled=USE_AMP)\n",
      "Epoch 1 [Train]:   0%|          | 0/276 [00:00<?, ?it/s]C:\\Users\\cathe\\AppData\\Local\\Temp\\ipykernel_12300\\3193498667.py:44: FutureWarning: You are using `torch.load` with `weights_only=False` (the current default value), which uses the default pickle module implicitly. It is possible to construct malicious pickle data which will execute arbitrary code during unpickling (See https://github.com/pytorch/pytorch/blob/main/SECURITY.md#untrusted-models for more details). In a future release, the default value for `weights_only` will be flipped to `True`. This limits the functions that could be executed during unpickling. Arbitrary objects will no longer be allowed to be loaded via this mode unless they are explicitly allowlisted by the user via `torch.serialization.add_safe_globals`. We recommend you start setting `weights_only=True` for any use case where you don't have full control of the loaded file. Please open an issue on GitHub for any issues related to this experimental feature.\n",
      "  x, y = torch.load(self.files[idx])\n",
      "C:\\Users\\cathe\\AppData\\Local\\Temp\\ipykernel_12300\\3193498667.py:146: FutureWarning: `torch.cuda.amp.autocast(args...)` is deprecated. Please use `torch.amp.autocast('cuda', args...)` instead.\n",
      "  with torch.cuda.amp.autocast(enabled=USE_AMP):\n",
      "Epoch 1 [Train]: 100%|██████████| 276/276 [00:17<00:00, 15.68it/s]\n",
      "Epoch 1 [Valid]: 100%|██████████| 31/31 [00:01<00:00, 20.13it/s]\n"
     ]
    },
    {
     "name": "stdout",
     "output_type": "stream",
     "text": [
      "Epoch 1 | Train Loss: 5.0374 | Val Loss: 4.8085\n",
      "Saved best model\n"
     ]
    },
    {
     "name": "stderr",
     "output_type": "stream",
     "text": [
      "Epoch 2 [Train]: 100%|██████████| 276/276 [00:06<00:00, 43.95it/s]\n",
      "Epoch 2 [Valid]: 100%|██████████| 31/31 [00:00<00:00, 89.17it/s]\n"
     ]
    },
    {
     "name": "stdout",
     "output_type": "stream",
     "text": [
      "Epoch 2 | Train Loss: 4.6501 | Val Loss: 3.9817\n",
      "Saved best model\n"
     ]
    },
    {
     "name": "stderr",
     "output_type": "stream",
     "text": [
      "Epoch 3 [Train]: 100%|██████████| 276/276 [00:06<00:00, 44.26it/s]\n",
      "Epoch 3 [Valid]: 100%|██████████| 31/31 [00:00<00:00, 89.21it/s]\n"
     ]
    },
    {
     "name": "stdout",
     "output_type": "stream",
     "text": [
      "Epoch 3 | Train Loss: 3.6385 | Val Loss: 3.2582\n",
      "Saved best model\n"
     ]
    },
    {
     "name": "stderr",
     "output_type": "stream",
     "text": [
      "Epoch 4 [Train]: 100%|██████████| 276/276 [00:06<00:00, 44.41it/s]\n",
      "Epoch 4 [Valid]: 100%|██████████| 31/31 [00:00<00:00, 89.87it/s]\n"
     ]
    },
    {
     "name": "stdout",
     "output_type": "stream",
     "text": [
      "Epoch 4 | Train Loss: 3.1798 | Val Loss: 2.8840\n",
      "Saved best model\n"
     ]
    },
    {
     "name": "stderr",
     "output_type": "stream",
     "text": [
      "Epoch 5 [Train]: 100%|██████████| 276/276 [00:06<00:00, 44.13it/s]\n",
      "Epoch 5 [Valid]: 100%|██████████| 31/31 [00:00<00:00, 88.94it/s]\n"
     ]
    },
    {
     "name": "stdout",
     "output_type": "stream",
     "text": [
      "Epoch 5 | Train Loss: 2.8403 | Val Loss: 2.7050\n",
      "Saved best model\n"
     ]
    },
    {
     "name": "stderr",
     "output_type": "stream",
     "text": [
      "Epoch 6 [Train]: 100%|██████████| 276/276 [00:06<00:00, 44.21it/s]\n",
      "Epoch 6 [Valid]: 100%|██████████| 31/31 [00:00<00:00, 88.60it/s]\n"
     ]
    },
    {
     "name": "stdout",
     "output_type": "stream",
     "text": [
      "Epoch 6 | Train Loss: 2.5991 | Val Loss: 2.3740\n",
      "Saved best model\n"
     ]
    },
    {
     "name": "stderr",
     "output_type": "stream",
     "text": [
      "Epoch 7 [Train]: 100%|██████████| 276/276 [00:06<00:00, 44.09it/s]\n",
      "Epoch 7 [Valid]: 100%|██████████| 31/31 [00:00<00:00, 88.89it/s]\n"
     ]
    },
    {
     "name": "stdout",
     "output_type": "stream",
     "text": [
      "Epoch 7 | Train Loss: 2.4236 | Val Loss: 2.2382\n",
      "Saved best model\n"
     ]
    },
    {
     "name": "stderr",
     "output_type": "stream",
     "text": [
      "Epoch 8 [Train]: 100%|██████████| 276/276 [00:06<00:00, 44.26it/s]\n",
      "Epoch 8 [Valid]: 100%|██████████| 31/31 [00:00<00:00, 89.49it/s]\n"
     ]
    },
    {
     "name": "stdout",
     "output_type": "stream",
     "text": [
      "Epoch 8 | Train Loss: 2.3166 | Val Loss: 2.1458\n",
      "Saved best model\n"
     ]
    },
    {
     "name": "stderr",
     "output_type": "stream",
     "text": [
      "Epoch 9 [Train]: 100%|██████████| 276/276 [00:06<00:00, 44.34it/s]\n",
      "Epoch 9 [Valid]: 100%|██████████| 31/31 [00:00<00:00, 88.72it/s]\n"
     ]
    },
    {
     "name": "stdout",
     "output_type": "stream",
     "text": [
      "Epoch 9 | Train Loss: 2.2368 | Val Loss: 2.0851\n",
      "Saved best model\n"
     ]
    },
    {
     "name": "stderr",
     "output_type": "stream",
     "text": [
      "Epoch 10 [Train]: 100%|██████████| 276/276 [00:06<00:00, 43.90it/s]\n",
      "Epoch 10 [Valid]: 100%|██████████| 31/31 [00:00<00:00, 86.39it/s]\n"
     ]
    },
    {
     "name": "stdout",
     "output_type": "stream",
     "text": [
      "Epoch 10 | Train Loss: 2.1795 | Val Loss: 2.0423\n",
      "Saved best model\n"
     ]
    },
    {
     "name": "stderr",
     "output_type": "stream",
     "text": [
      "Epoch 11 [Train]: 100%|██████████| 276/276 [00:06<00:00, 43.77it/s]\n",
      "Epoch 11 [Valid]: 100%|██████████| 31/31 [00:00<00:00, 89.42it/s]\n"
     ]
    },
    {
     "name": "stdout",
     "output_type": "stream",
     "text": [
      "Epoch 11 | Train Loss: 2.1379 | Val Loss: 2.0140\n",
      "Saved best model\n"
     ]
    },
    {
     "name": "stderr",
     "output_type": "stream",
     "text": [
      "Epoch 12 [Train]: 100%|██████████| 276/276 [00:06<00:00, 44.24it/s]\n",
      "Epoch 12 [Valid]: 100%|██████████| 31/31 [00:00<00:00, 89.23it/s]\n"
     ]
    },
    {
     "name": "stdout",
     "output_type": "stream",
     "text": [
      "Epoch 12 | Train Loss: 2.1320 | Val Loss: 2.0005\n",
      "Saved best model\n"
     ]
    },
    {
     "name": "stderr",
     "output_type": "stream",
     "text": [
      "Epoch 13 [Train]: 100%|██████████| 276/276 [00:06<00:00, 44.26it/s]\n",
      "Epoch 13 [Valid]: 100%|██████████| 31/31 [00:00<00:00, 89.84it/s]\n"
     ]
    },
    {
     "name": "stdout",
     "output_type": "stream",
     "text": [
      "Epoch 13 | Train Loss: 2.0969 | Val Loss: 1.9872\n",
      "Saved best model\n"
     ]
    },
    {
     "name": "stderr",
     "output_type": "stream",
     "text": [
      "Epoch 14 [Train]: 100%|██████████| 276/276 [00:06<00:00, 44.14it/s]\n",
      "Epoch 14 [Valid]: 100%|██████████| 31/31 [00:00<00:00, 88.38it/s]\n"
     ]
    },
    {
     "name": "stdout",
     "output_type": "stream",
     "text": [
      "Epoch 14 | Train Loss: 2.0863 | Val Loss: 1.9891\n",
      "No improvement. Patience: 1/5\n"
     ]
    },
    {
     "name": "stderr",
     "output_type": "stream",
     "text": [
      "Epoch 15 [Train]: 100%|██████████| 276/276 [00:06<00:00, 44.38it/s]\n",
      "Epoch 15 [Valid]: 100%|██████████| 31/31 [00:00<00:00, 89.31it/s]\n"
     ]
    },
    {
     "name": "stdout",
     "output_type": "stream",
     "text": [
      "Epoch 15 | Train Loss: 2.0988 | Val Loss: 1.9766\n",
      "Saved best model\n"
     ]
    },
    {
     "name": "stderr",
     "output_type": "stream",
     "text": [
      "Epoch 16 [Train]: 100%|██████████| 276/276 [00:06<00:00, 44.34it/s]\n",
      "Epoch 16 [Valid]: 100%|██████████| 31/31 [00:00<00:00, 88.35it/s]\n"
     ]
    },
    {
     "name": "stdout",
     "output_type": "stream",
     "text": [
      "Epoch 16 | Train Loss: 2.0698 | Val Loss: 1.9719\n",
      "Saved best model\n"
     ]
    },
    {
     "name": "stderr",
     "output_type": "stream",
     "text": [
      "Epoch 17 [Train]: 100%|██████████| 276/276 [00:06<00:00, 44.33it/s]\n",
      "Epoch 17 [Valid]: 100%|██████████| 31/31 [00:00<00:00, 89.28it/s]\n"
     ]
    },
    {
     "name": "stdout",
     "output_type": "stream",
     "text": [
      "Epoch 17 | Train Loss: 2.0668 | Val Loss: 1.9664\n",
      "Saved best model\n"
     ]
    },
    {
     "name": "stderr",
     "output_type": "stream",
     "text": [
      "Epoch 18 [Train]: 100%|██████████| 276/276 [00:06<00:00, 44.22it/s]\n",
      "Epoch 18 [Valid]: 100%|██████████| 31/31 [00:00<00:00, 89.43it/s]\n"
     ]
    },
    {
     "name": "stdout",
     "output_type": "stream",
     "text": [
      "Epoch 18 | Train Loss: 2.0590 | Val Loss: 1.9654\n",
      "Saved best model\n"
     ]
    },
    {
     "name": "stderr",
     "output_type": "stream",
     "text": [
      "Epoch 19 [Train]: 100%|██████████| 276/276 [00:06<00:00, 44.09it/s]\n",
      "Epoch 19 [Valid]: 100%|██████████| 31/31 [00:00<00:00, 88.96it/s]\n"
     ]
    },
    {
     "name": "stdout",
     "output_type": "stream",
     "text": [
      "Epoch 19 | Train Loss: 2.1250 | Val Loss: 2.2002\n",
      "No improvement. Patience: 1/5\n"
     ]
    },
    {
     "name": "stderr",
     "output_type": "stream",
     "text": [
      "Epoch 20 [Train]: 100%|██████████| 276/276 [00:06<00:00, 44.34it/s]\n",
      "Epoch 20 [Valid]: 100%|██████████| 31/31 [00:00<00:00, 88.91it/s]\n"
     ]
    },
    {
     "name": "stdout",
     "output_type": "stream",
     "text": [
      "Epoch 20 | Train Loss: 2.0634 | Val Loss: 1.9584\n",
      "Saved best model\n"
     ]
    },
    {
     "name": "stderr",
     "output_type": "stream",
     "text": [
      "Epoch 21 [Train]: 100%|██████████| 276/276 [00:06<00:00, 44.11it/s]\n",
      "Epoch 21 [Valid]: 100%|██████████| 31/31 [00:00<00:00, 88.79it/s]\n"
     ]
    },
    {
     "name": "stdout",
     "output_type": "stream",
     "text": [
      "Epoch 21 | Train Loss: 2.0426 | Val Loss: 1.9528\n",
      "Saved best model\n"
     ]
    },
    {
     "name": "stderr",
     "output_type": "stream",
     "text": [
      "Epoch 22 [Train]: 100%|██████████| 276/276 [00:06<00:00, 44.18it/s]\n",
      "Epoch 22 [Valid]: 100%|██████████| 31/31 [00:00<00:00, 89.04it/s]\n"
     ]
    },
    {
     "name": "stdout",
     "output_type": "stream",
     "text": [
      "Epoch 22 | Train Loss: 2.0370 | Val Loss: 1.9419\n",
      "Saved best model\n"
     ]
    },
    {
     "name": "stderr",
     "output_type": "stream",
     "text": [
      "Epoch 23 [Train]: 100%|██████████| 276/276 [00:06<00:00, 44.16it/s]\n",
      "Epoch 23 [Valid]: 100%|██████████| 31/31 [00:00<00:00, 89.09it/s]\n"
     ]
    },
    {
     "name": "stdout",
     "output_type": "stream",
     "text": [
      "Epoch 23 | Train Loss: 2.0251 | Val Loss: 1.9142\n",
      "Saved best model\n"
     ]
    },
    {
     "name": "stderr",
     "output_type": "stream",
     "text": [
      "Epoch 24 [Train]: 100%|██████████| 276/276 [00:06<00:00, 44.09it/s]\n",
      "Epoch 24 [Valid]: 100%|██████████| 31/31 [00:00<00:00, 89.70it/s]\n"
     ]
    },
    {
     "name": "stdout",
     "output_type": "stream",
     "text": [
      "Epoch 24 | Train Loss: 2.0232 | Val Loss: 1.8060\n",
      "Saved best model\n"
     ]
    },
    {
     "name": "stderr",
     "output_type": "stream",
     "text": [
      "Epoch 25 [Train]: 100%|██████████| 276/276 [00:06<00:00, 44.26it/s]\n",
      "Epoch 25 [Valid]: 100%|██████████| 31/31 [00:00<00:00, 89.29it/s]\n"
     ]
    },
    {
     "name": "stdout",
     "output_type": "stream",
     "text": [
      "Epoch 25 | Train Loss: 1.5877 | Val Loss: 1.3772\n",
      "Saved best model\n"
     ]
    },
    {
     "name": "stderr",
     "output_type": "stream",
     "text": [
      "Epoch 26 [Train]: 100%|██████████| 276/276 [00:06<00:00, 44.27it/s]\n",
      "Epoch 26 [Valid]: 100%|██████████| 31/31 [00:00<00:00, 88.52it/s]\n"
     ]
    },
    {
     "name": "stdout",
     "output_type": "stream",
     "text": [
      "Epoch 26 | Train Loss: 1.4274 | Val Loss: 1.2863\n",
      "Saved best model\n"
     ]
    },
    {
     "name": "stderr",
     "output_type": "stream",
     "text": [
      "Epoch 27 [Train]: 100%|██████████| 276/276 [00:06<00:00, 44.19it/s]\n",
      "Epoch 27 [Valid]: 100%|██████████| 31/31 [00:00<00:00, 89.68it/s]\n"
     ]
    },
    {
     "name": "stdout",
     "output_type": "stream",
     "text": [
      "Epoch 27 | Train Loss: 1.3521 | Val Loss: 1.2435\n",
      "Saved best model\n"
     ]
    },
    {
     "name": "stderr",
     "output_type": "stream",
     "text": [
      "Epoch 28 [Train]: 100%|██████████| 276/276 [00:06<00:00, 44.24it/s]\n",
      "Epoch 28 [Valid]: 100%|██████████| 31/31 [00:00<00:00, 89.36it/s]\n"
     ]
    },
    {
     "name": "stdout",
     "output_type": "stream",
     "text": [
      "Epoch 28 | Train Loss: 1.3364 | Val Loss: 1.1759\n",
      "Saved best model\n"
     ]
    },
    {
     "name": "stderr",
     "output_type": "stream",
     "text": [
      "Epoch 29 [Train]: 100%|██████████| 276/276 [00:06<00:00, 44.26it/s]\n",
      "Epoch 29 [Valid]: 100%|██████████| 31/31 [00:00<00:00, 89.84it/s]\n"
     ]
    },
    {
     "name": "stdout",
     "output_type": "stream",
     "text": [
      "Epoch 29 | Train Loss: 1.2586 | Val Loss: 1.1419\n",
      "Saved best model\n"
     ]
    },
    {
     "name": "stderr",
     "output_type": "stream",
     "text": [
      "Epoch 30 [Train]: 100%|██████████| 276/276 [00:06<00:00, 44.38it/s]\n",
      "Epoch 30 [Valid]: 100%|██████████| 31/31 [00:00<00:00, 88.93it/s]\n"
     ]
    },
    {
     "name": "stdout",
     "output_type": "stream",
     "text": [
      "Epoch 30 | Train Loss: 1.2145 | Val Loss: 1.0924\n",
      "Saved best model\n"
     ]
    },
    {
     "name": "stderr",
     "output_type": "stream",
     "text": [
      "Epoch 31 [Train]: 100%|██████████| 276/276 [00:06<00:00, 43.91it/s]\n",
      "Epoch 31 [Valid]: 100%|██████████| 31/31 [00:00<00:00, 89.43it/s]\n"
     ]
    },
    {
     "name": "stdout",
     "output_type": "stream",
     "text": [
      "Epoch 31 | Train Loss: 1.1764 | Val Loss: 1.0506\n",
      "Saved best model\n"
     ]
    },
    {
     "name": "stderr",
     "output_type": "stream",
     "text": [
      "Epoch 32 [Train]: 100%|██████████| 276/276 [00:06<00:00, 44.34it/s]\n",
      "Epoch 32 [Valid]: 100%|██████████| 31/31 [00:00<00:00, 89.62it/s]\n"
     ]
    },
    {
     "name": "stdout",
     "output_type": "stream",
     "text": [
      "Epoch 32 | Train Loss: 1.1367 | Val Loss: 1.0039\n",
      "Saved best model\n"
     ]
    },
    {
     "name": "stderr",
     "output_type": "stream",
     "text": [
      "Epoch 33 [Train]: 100%|██████████| 276/276 [00:06<00:00, 44.28it/s]\n",
      "Epoch 33 [Valid]: 100%|██████████| 31/31 [00:00<00:00, 89.92it/s]\n"
     ]
    },
    {
     "name": "stdout",
     "output_type": "stream",
     "text": [
      "Epoch 33 | Train Loss: 1.1059 | Val Loss: 0.9880\n",
      "Saved best model\n"
     ]
    },
    {
     "name": "stderr",
     "output_type": "stream",
     "text": [
      "Epoch 34 [Train]: 100%|██████████| 276/276 [00:06<00:00, 44.25it/s]\n",
      "Epoch 34 [Valid]: 100%|██████████| 31/31 [00:00<00:00, 89.35it/s]\n"
     ]
    },
    {
     "name": "stdout",
     "output_type": "stream",
     "text": [
      "Epoch 34 | Train Loss: 1.0800 | Val Loss: 0.9584\n",
      "Saved best model\n"
     ]
    },
    {
     "name": "stderr",
     "output_type": "stream",
     "text": [
      "Epoch 35 [Train]: 100%|██████████| 276/276 [00:06<00:00, 44.37it/s]\n",
      "Epoch 35 [Valid]: 100%|██████████| 31/31 [00:00<00:00, 89.89it/s]\n"
     ]
    },
    {
     "name": "stdout",
     "output_type": "stream",
     "text": [
      "Epoch 35 | Train Loss: 1.0646 | Val Loss: 0.9380\n",
      "Saved best model\n"
     ]
    },
    {
     "name": "stderr",
     "output_type": "stream",
     "text": [
      "Epoch 36 [Train]: 100%|██████████| 276/276 [00:06<00:00, 44.05it/s]\n",
      "Epoch 36 [Valid]: 100%|██████████| 31/31 [00:00<00:00, 89.92it/s]\n"
     ]
    },
    {
     "name": "stdout",
     "output_type": "stream",
     "text": [
      "Epoch 36 | Train Loss: 1.0443 | Val Loss: 0.9214\n",
      "Saved best model\n"
     ]
    },
    {
     "name": "stderr",
     "output_type": "stream",
     "text": [
      "Epoch 37 [Train]: 100%|██████████| 276/276 [00:06<00:00, 44.35it/s]\n",
      "Epoch 37 [Valid]: 100%|██████████| 31/31 [00:00<00:00, 90.11it/s]\n"
     ]
    },
    {
     "name": "stdout",
     "output_type": "stream",
     "text": [
      "Epoch 37 | Train Loss: 1.0272 | Val Loss: 0.9098\n",
      "Saved best model\n"
     ]
    },
    {
     "name": "stderr",
     "output_type": "stream",
     "text": [
      "Epoch 38 [Train]: 100%|██████████| 276/276 [00:06<00:00, 44.37it/s]\n",
      "Epoch 38 [Valid]: 100%|██████████| 31/31 [00:00<00:00, 89.81it/s]\n"
     ]
    },
    {
     "name": "stdout",
     "output_type": "stream",
     "text": [
      "Epoch 38 | Train Loss: 1.0185 | Val Loss: 0.9231\n",
      "No improvement. Patience: 1/5\n"
     ]
    },
    {
     "name": "stderr",
     "output_type": "stream",
     "text": [
      "Epoch 39 [Train]: 100%|██████████| 276/276 [00:06<00:00, 44.10it/s]\n",
      "Epoch 39 [Valid]: 100%|██████████| 31/31 [00:00<00:00, 89.48it/s]\n"
     ]
    },
    {
     "name": "stdout",
     "output_type": "stream",
     "text": [
      "Epoch 39 | Train Loss: 1.0014 | Val Loss: 0.8830\n",
      "Saved best model\n"
     ]
    },
    {
     "name": "stderr",
     "output_type": "stream",
     "text": [
      "Epoch 40 [Train]: 100%|██████████| 276/276 [00:06<00:00, 44.32it/s]\n",
      "Epoch 40 [Valid]: 100%|██████████| 31/31 [00:00<00:00, 90.33it/s]\n"
     ]
    },
    {
     "name": "stdout",
     "output_type": "stream",
     "text": [
      "Epoch 40 | Train Loss: 1.0174 | Val Loss: 0.8775\n",
      "Saved best model\n"
     ]
    },
    {
     "name": "stderr",
     "output_type": "stream",
     "text": [
      "Epoch 41 [Train]: 100%|██████████| 276/276 [00:06<00:00, 44.00it/s]\n",
      "Epoch 41 [Valid]: 100%|██████████| 31/31 [00:00<00:00, 90.35it/s]\n"
     ]
    },
    {
     "name": "stdout",
     "output_type": "stream",
     "text": [
      "Epoch 41 | Train Loss: 0.9812 | Val Loss: 0.8612\n",
      "Saved best model\n"
     ]
    },
    {
     "name": "stderr",
     "output_type": "stream",
     "text": [
      "Epoch 42 [Train]: 100%|██████████| 276/276 [00:06<00:00, 44.50it/s]\n",
      "Epoch 42 [Valid]: 100%|██████████| 31/31 [00:00<00:00, 90.06it/s]\n"
     ]
    },
    {
     "name": "stdout",
     "output_type": "stream",
     "text": [
      "Epoch 42 | Train Loss: 0.9666 | Val Loss: 0.8545\n",
      "Saved best model\n"
     ]
    },
    {
     "name": "stderr",
     "output_type": "stream",
     "text": [
      "Epoch 43 [Train]: 100%|██████████| 276/276 [00:06<00:00, 44.34it/s]\n",
      "Epoch 43 [Valid]: 100%|██████████| 31/31 [00:00<00:00, 88.25it/s]\n"
     ]
    },
    {
     "name": "stdout",
     "output_type": "stream",
     "text": [
      "Epoch 43 | Train Loss: 0.9611 | Val Loss: 0.8467\n",
      "Saved best model\n"
     ]
    },
    {
     "name": "stderr",
     "output_type": "stream",
     "text": [
      "Epoch 44 [Train]: 100%|██████████| 276/276 [00:06<00:00, 44.15it/s]\n",
      "Epoch 44 [Valid]: 100%|██████████| 31/31 [00:00<00:00, 90.06it/s]\n"
     ]
    },
    {
     "name": "stdout",
     "output_type": "stream",
     "text": [
      "Epoch 44 | Train Loss: 0.9518 | Val Loss: 0.8359\n",
      "Saved best model\n"
     ]
    },
    {
     "name": "stderr",
     "output_type": "stream",
     "text": [
      "Epoch 45 [Train]: 100%|██████████| 276/276 [00:06<00:00, 44.38it/s]\n",
      "Epoch 45 [Valid]: 100%|██████████| 31/31 [00:00<00:00, 89.74it/s]\n"
     ]
    },
    {
     "name": "stdout",
     "output_type": "stream",
     "text": [
      "Epoch 45 | Train Loss: 0.9466 | Val Loss: 0.8207\n",
      "Saved best model\n"
     ]
    },
    {
     "name": "stderr",
     "output_type": "stream",
     "text": [
      "Epoch 46 [Train]: 100%|██████████| 276/276 [00:06<00:00, 44.03it/s]\n",
      "Epoch 46 [Valid]: 100%|██████████| 31/31 [00:00<00:00, 89.84it/s]\n"
     ]
    },
    {
     "name": "stdout",
     "output_type": "stream",
     "text": [
      "Epoch 46 | Train Loss: 0.9335 | Val Loss: 0.8114\n",
      "Saved best model\n"
     ]
    },
    {
     "name": "stderr",
     "output_type": "stream",
     "text": [
      "Epoch 47 [Train]: 100%|██████████| 276/276 [00:06<00:00, 43.58it/s]\n",
      "Epoch 47 [Valid]: 100%|██████████| 31/31 [00:00<00:00, 89.63it/s]\n"
     ]
    },
    {
     "name": "stdout",
     "output_type": "stream",
     "text": [
      "Epoch 47 | Train Loss: 0.9292 | Val Loss: 0.8044\n",
      "Saved best model\n"
     ]
    },
    {
     "name": "stderr",
     "output_type": "stream",
     "text": [
      "Epoch 48 [Train]: 100%|██████████| 276/276 [00:06<00:00, 43.99it/s]\n",
      "Epoch 48 [Valid]: 100%|██████████| 31/31 [00:00<00:00, 88.07it/s]\n"
     ]
    },
    {
     "name": "stdout",
     "output_type": "stream",
     "text": [
      "Epoch 48 | Train Loss: 0.9225 | Val Loss: 0.8001\n",
      "Saved best model\n"
     ]
    },
    {
     "name": "stderr",
     "output_type": "stream",
     "text": [
      "Epoch 49 [Train]: 100%|██████████| 276/276 [00:06<00:00, 44.28it/s]\n",
      "Epoch 49 [Valid]: 100%|██████████| 31/31 [00:00<00:00, 89.74it/s]\n"
     ]
    },
    {
     "name": "stdout",
     "output_type": "stream",
     "text": [
      "Epoch 49 | Train Loss: 0.9207 | Val Loss: 0.8081\n",
      "No improvement. Patience: 1/5\n"
     ]
    },
    {
     "name": "stderr",
     "output_type": "stream",
     "text": [
      "Epoch 50 [Train]: 100%|██████████| 276/276 [00:06<00:00, 44.37it/s]\n",
      "Epoch 50 [Valid]: 100%|██████████| 31/31 [00:00<00:00, 89.60it/s]\n"
     ]
    },
    {
     "name": "stdout",
     "output_type": "stream",
     "text": [
      "Epoch 50 | Train Loss: 0.9093 | Val Loss: 0.7916\n",
      "Saved best model\n"
     ]
    },
    {
     "name": "stderr",
     "output_type": "stream",
     "text": [
      "Epoch 51 [Train]: 100%|██████████| 276/276 [00:06<00:00, 44.01it/s]\n",
      "Epoch 51 [Valid]: 100%|██████████| 31/31 [00:00<00:00, 90.02it/s]\n"
     ]
    },
    {
     "name": "stdout",
     "output_type": "stream",
     "text": [
      "Epoch 51 | Train Loss: 0.9107 | Val Loss: 0.7850\n",
      "Saved best model\n"
     ]
    },
    {
     "name": "stderr",
     "output_type": "stream",
     "text": [
      "Epoch 52 [Train]: 100%|██████████| 276/276 [00:06<00:00, 44.41it/s]\n",
      "Epoch 52 [Valid]: 100%|██████████| 31/31 [00:00<00:00, 89.67it/s]\n"
     ]
    },
    {
     "name": "stdout",
     "output_type": "stream",
     "text": [
      "Epoch 52 | Train Loss: 0.9012 | Val Loss: 0.7767\n",
      "Saved best model\n"
     ]
    },
    {
     "name": "stderr",
     "output_type": "stream",
     "text": [
      "Epoch 53 [Train]: 100%|██████████| 276/276 [00:06<00:00, 44.06it/s]\n",
      "Epoch 53 [Valid]: 100%|██████████| 31/31 [00:00<00:00, 89.23it/s]\n"
     ]
    },
    {
     "name": "stdout",
     "output_type": "stream",
     "text": [
      "Epoch 53 | Train Loss: 0.8903 | Val Loss: 0.7731\n",
      "Saved best model\n"
     ]
    },
    {
     "name": "stderr",
     "output_type": "stream",
     "text": [
      "Epoch 54 [Train]: 100%|██████████| 276/276 [00:06<00:00, 44.27it/s]\n",
      "Epoch 54 [Valid]: 100%|██████████| 31/31 [00:00<00:00, 90.10it/s]\n"
     ]
    },
    {
     "name": "stdout",
     "output_type": "stream",
     "text": [
      "Epoch 54 | Train Loss: 0.9056 | Val Loss: 0.7623\n",
      "Saved best model\n"
     ]
    },
    {
     "name": "stderr",
     "output_type": "stream",
     "text": [
      "Epoch 55 [Train]: 100%|██████████| 276/276 [00:06<00:00, 44.48it/s]\n",
      "Epoch 55 [Valid]: 100%|██████████| 31/31 [00:00<00:00, 89.04it/s]\n"
     ]
    },
    {
     "name": "stdout",
     "output_type": "stream",
     "text": [
      "Epoch 55 | Train Loss: 0.8795 | Val Loss: 0.7616\n",
      "Saved best model\n"
     ]
    },
    {
     "name": "stderr",
     "output_type": "stream",
     "text": [
      "Epoch 56 [Train]: 100%|██████████| 276/276 [00:06<00:00, 43.95it/s]\n",
      "Epoch 56 [Valid]: 100%|██████████| 31/31 [00:00<00:00, 89.39it/s]\n"
     ]
    },
    {
     "name": "stdout",
     "output_type": "stream",
     "text": [
      "Epoch 56 | Train Loss: 0.8769 | Val Loss: 0.7443\n",
      "Saved best model\n"
     ]
    },
    {
     "name": "stderr",
     "output_type": "stream",
     "text": [
      "Epoch 57 [Train]: 100%|██████████| 276/276 [00:06<00:00, 44.33it/s]\n",
      "Epoch 57 [Valid]: 100%|██████████| 31/31 [00:00<00:00, 89.70it/s]\n"
     ]
    },
    {
     "name": "stdout",
     "output_type": "stream",
     "text": [
      "Epoch 57 | Train Loss: 0.8693 | Val Loss: 0.7571\n",
      "No improvement. Patience: 1/5\n"
     ]
    },
    {
     "name": "stderr",
     "output_type": "stream",
     "text": [
      "Epoch 58 [Train]: 100%|██████████| 276/276 [00:06<00:00, 43.82it/s]\n",
      "Epoch 58 [Valid]: 100%|██████████| 31/31 [00:00<00:00, 89.50it/s]\n"
     ]
    },
    {
     "name": "stdout",
     "output_type": "stream",
     "text": [
      "Epoch 58 | Train Loss: 0.8680 | Val Loss: 0.7402\n",
      "Saved best model\n"
     ]
    },
    {
     "name": "stderr",
     "output_type": "stream",
     "text": [
      "Epoch 59 [Train]: 100%|██████████| 276/276 [00:06<00:00, 44.36it/s]\n",
      "Epoch 59 [Valid]: 100%|██████████| 31/31 [00:00<00:00, 90.03it/s]\n"
     ]
    },
    {
     "name": "stdout",
     "output_type": "stream",
     "text": [
      "Epoch 59 | Train Loss: 0.8675 | Val Loss: 0.7876\n",
      "No improvement. Patience: 1/5\n"
     ]
    },
    {
     "name": "stderr",
     "output_type": "stream",
     "text": [
      "Epoch 60 [Train]: 100%|██████████| 276/276 [00:06<00:00, 44.39it/s]\n",
      "Epoch 60 [Valid]: 100%|██████████| 31/31 [00:00<00:00, 88.45it/s]\n"
     ]
    },
    {
     "name": "stdout",
     "output_type": "stream",
     "text": [
      "Epoch 60 | Train Loss: 0.8727 | Val Loss: 0.7359\n",
      "Saved best model\n"
     ]
    },
    {
     "name": "stderr",
     "output_type": "stream",
     "text": [
      "Epoch 61 [Train]: 100%|██████████| 276/276 [00:06<00:00, 43.90it/s]\n",
      "Epoch 61 [Valid]: 100%|██████████| 31/31 [00:00<00:00, 89.78it/s]\n"
     ]
    },
    {
     "name": "stdout",
     "output_type": "stream",
     "text": [
      "Epoch 61 | Train Loss: 0.8506 | Val Loss: 0.7426\n",
      "No improvement. Patience: 1/5\n"
     ]
    },
    {
     "name": "stderr",
     "output_type": "stream",
     "text": [
      "Epoch 62 [Train]: 100%|██████████| 276/276 [00:06<00:00, 44.41it/s]\n",
      "Epoch 62 [Valid]: 100%|██████████| 31/31 [00:00<00:00, 89.26it/s]\n"
     ]
    },
    {
     "name": "stdout",
     "output_type": "stream",
     "text": [
      "Epoch 62 | Train Loss: 0.8492 | Val Loss: 0.7387\n",
      "No improvement. Patience: 2/5\n"
     ]
    },
    {
     "name": "stderr",
     "output_type": "stream",
     "text": [
      "Epoch 63 [Train]: 100%|██████████| 276/276 [00:06<00:00, 44.14it/s]\n",
      "Epoch 63 [Valid]: 100%|██████████| 31/31 [00:00<00:00, 90.10it/s]\n"
     ]
    },
    {
     "name": "stdout",
     "output_type": "stream",
     "text": [
      "Epoch 63 | Train Loss: 0.8459 | Val Loss: 0.7341\n",
      "Saved best model\n"
     ]
    },
    {
     "name": "stderr",
     "output_type": "stream",
     "text": [
      "Epoch 64 [Train]: 100%|██████████| 276/276 [00:06<00:00, 44.32it/s]\n",
      "Epoch 64 [Valid]: 100%|██████████| 31/31 [00:00<00:00, 89.45it/s]\n"
     ]
    },
    {
     "name": "stdout",
     "output_type": "stream",
     "text": [
      "Epoch 64 | Train Loss: 0.8470 | Val Loss: 0.7625\n",
      "No improvement. Patience: 1/5\n"
     ]
    },
    {
     "name": "stderr",
     "output_type": "stream",
     "text": [
      "Epoch 65 [Train]: 100%|██████████| 276/276 [00:06<00:00, 44.25it/s]\n",
      "Epoch 65 [Valid]: 100%|██████████| 31/31 [00:00<00:00, 89.82it/s]\n"
     ]
    },
    {
     "name": "stdout",
     "output_type": "stream",
     "text": [
      "Epoch 65 | Train Loss: 0.8412 | Val Loss: 0.7117\n",
      "Saved best model\n"
     ]
    },
    {
     "name": "stderr",
     "output_type": "stream",
     "text": [
      "Epoch 66 [Train]: 100%|██████████| 276/276 [00:06<00:00, 44.22it/s]\n",
      "Epoch 66 [Valid]: 100%|██████████| 31/31 [00:00<00:00, 89.60it/s]\n"
     ]
    },
    {
     "name": "stdout",
     "output_type": "stream",
     "text": [
      "Epoch 66 | Train Loss: 0.8357 | Val Loss: 0.7046\n",
      "Saved best model\n"
     ]
    },
    {
     "name": "stderr",
     "output_type": "stream",
     "text": [
      "Epoch 67 [Train]: 100%|██████████| 276/276 [00:06<00:00, 44.41it/s]\n",
      "Epoch 67 [Valid]: 100%|██████████| 31/31 [00:00<00:00, 89.36it/s]\n"
     ]
    },
    {
     "name": "stdout",
     "output_type": "stream",
     "text": [
      "Epoch 67 | Train Loss: 0.8363 | Val Loss: 0.7121\n",
      "No improvement. Patience: 1/5\n"
     ]
    },
    {
     "name": "stderr",
     "output_type": "stream",
     "text": [
      "Epoch 68 [Train]: 100%|██████████| 276/276 [00:06<00:00, 44.19it/s]\n",
      "Epoch 68 [Valid]: 100%|██████████| 31/31 [00:00<00:00, 89.48it/s]\n"
     ]
    },
    {
     "name": "stdout",
     "output_type": "stream",
     "text": [
      "Epoch 68 | Train Loss: 0.8304 | Val Loss: 0.7281\n",
      "No improvement. Patience: 2/5\n"
     ]
    },
    {
     "name": "stderr",
     "output_type": "stream",
     "text": [
      "Epoch 69 [Train]: 100%|██████████| 276/276 [00:06<00:00, 44.22it/s]\n",
      "Epoch 69 [Valid]: 100%|██████████| 31/31 [00:00<00:00, 89.54it/s]\n"
     ]
    },
    {
     "name": "stdout",
     "output_type": "stream",
     "text": [
      "Epoch 69 | Train Loss: 0.8342 | Val Loss: 0.6981\n",
      "Saved best model\n"
     ]
    },
    {
     "name": "stderr",
     "output_type": "stream",
     "text": [
      "Epoch 70 [Train]: 100%|██████████| 276/276 [00:06<00:00, 44.18it/s]\n",
      "Epoch 70 [Valid]: 100%|██████████| 31/31 [00:00<00:00, 89.72it/s]\n"
     ]
    },
    {
     "name": "stdout",
     "output_type": "stream",
     "text": [
      "Epoch 70 | Train Loss: 0.8269 | Val Loss: 0.6969\n",
      "Saved best model\n"
     ]
    },
    {
     "name": "stderr",
     "output_type": "stream",
     "text": [
      "Epoch 71 [Train]: 100%|██████████| 276/276 [00:06<00:00, 44.02it/s]\n",
      "Epoch 71 [Valid]: 100%|██████████| 31/31 [00:00<00:00, 90.25it/s]\n"
     ]
    },
    {
     "name": "stdout",
     "output_type": "stream",
     "text": [
      "Epoch 71 | Train Loss: 0.8207 | Val Loss: 0.6949\n",
      "Saved best model\n"
     ]
    },
    {
     "name": "stderr",
     "output_type": "stream",
     "text": [
      "Epoch 72 [Train]: 100%|██████████| 276/276 [00:06<00:00, 43.43it/s]\n",
      "Epoch 72 [Valid]: 100%|██████████| 31/31 [00:00<00:00, 87.80it/s]\n"
     ]
    },
    {
     "name": "stdout",
     "output_type": "stream",
     "text": [
      "Epoch 72 | Train Loss: 0.8207 | Val Loss: 0.6900\n",
      "Saved best model\n"
     ]
    },
    {
     "name": "stderr",
     "output_type": "stream",
     "text": [
      "Epoch 73 [Train]: 100%|██████████| 276/276 [00:06<00:00, 42.73it/s]\n",
      "Epoch 73 [Valid]: 100%|██████████| 31/31 [00:00<00:00, 88.34it/s]\n"
     ]
    },
    {
     "name": "stdout",
     "output_type": "stream",
     "text": [
      "Epoch 73 | Train Loss: 0.8161 | Val Loss: 0.6833\n",
      "Saved best model\n"
     ]
    },
    {
     "name": "stderr",
     "output_type": "stream",
     "text": [
      "Epoch 74 [Train]: 100%|██████████| 276/276 [00:06<00:00, 43.57it/s]\n",
      "Epoch 74 [Valid]: 100%|██████████| 31/31 [00:00<00:00, 88.92it/s]\n"
     ]
    },
    {
     "name": "stdout",
     "output_type": "stream",
     "text": [
      "Epoch 74 | Train Loss: 0.8124 | Val Loss: 0.6950\n",
      "No improvement. Patience: 1/5\n"
     ]
    },
    {
     "name": "stderr",
     "output_type": "stream",
     "text": [
      "Epoch 75 [Train]: 100%|██████████| 276/276 [00:06<00:00, 44.09it/s]\n",
      "Epoch 75 [Valid]: 100%|██████████| 31/31 [00:00<00:00, 87.88it/s]\n"
     ]
    },
    {
     "name": "stdout",
     "output_type": "stream",
     "text": [
      "Epoch 75 | Train Loss: 0.8143 | Val Loss: 0.6798\n",
      "Saved best model\n"
     ]
    },
    {
     "name": "stderr",
     "output_type": "stream",
     "text": [
      "Epoch 76 [Train]: 100%|██████████| 276/276 [00:06<00:00, 44.07it/s]\n",
      "Epoch 76 [Valid]: 100%|██████████| 31/31 [00:00<00:00, 89.44it/s]\n"
     ]
    },
    {
     "name": "stdout",
     "output_type": "stream",
     "text": [
      "Epoch 76 | Train Loss: 0.8086 | Val Loss: 0.6736\n",
      "Saved best model\n"
     ]
    },
    {
     "name": "stderr",
     "output_type": "stream",
     "text": [
      "Epoch 77 [Train]: 100%|██████████| 276/276 [00:06<00:00, 43.71it/s]\n",
      "Epoch 77 [Valid]: 100%|██████████| 31/31 [00:00<00:00, 88.40it/s]\n"
     ]
    },
    {
     "name": "stdout",
     "output_type": "stream",
     "text": [
      "Epoch 77 | Train Loss: 0.8042 | Val Loss: 0.6749\n",
      "No improvement. Patience: 1/5\n"
     ]
    },
    {
     "name": "stderr",
     "output_type": "stream",
     "text": [
      "Epoch 78 [Train]: 100%|██████████| 276/276 [00:06<00:00, 43.64it/s]\n",
      "Epoch 78 [Valid]: 100%|██████████| 31/31 [00:00<00:00, 87.29it/s]\n"
     ]
    },
    {
     "name": "stdout",
     "output_type": "stream",
     "text": [
      "Epoch 78 | Train Loss: 0.8009 | Val Loss: 0.6704\n",
      "Saved best model\n"
     ]
    },
    {
     "name": "stderr",
     "output_type": "stream",
     "text": [
      "Epoch 79 [Train]: 100%|██████████| 276/276 [00:06<00:00, 43.71it/s]\n",
      "Epoch 79 [Valid]: 100%|██████████| 31/31 [00:00<00:00, 88.87it/s]\n"
     ]
    },
    {
     "name": "stdout",
     "output_type": "stream",
     "text": [
      "Epoch 79 | Train Loss: 0.8015 | Val Loss: 0.6639\n",
      "Saved best model\n"
     ]
    },
    {
     "name": "stderr",
     "output_type": "stream",
     "text": [
      "Epoch 80 [Train]: 100%|██████████| 276/276 [00:06<00:00, 43.80it/s]\n",
      "Epoch 80 [Valid]: 100%|██████████| 31/31 [00:00<00:00, 87.98it/s]\n"
     ]
    },
    {
     "name": "stdout",
     "output_type": "stream",
     "text": [
      "Epoch 80 | Train Loss: 0.7989 | Val Loss: 0.6777\n",
      "No improvement. Patience: 1/5\n"
     ]
    },
    {
     "name": "stderr",
     "output_type": "stream",
     "text": [
      "Epoch 81 [Train]: 100%|██████████| 276/276 [00:06<00:00, 43.63it/s]\n",
      "Epoch 81 [Valid]: 100%|██████████| 31/31 [00:00<00:00, 88.38it/s]\n"
     ]
    },
    {
     "name": "stdout",
     "output_type": "stream",
     "text": [
      "Epoch 81 | Train Loss: 0.7937 | Val Loss: 0.6728\n",
      "No improvement. Patience: 2/5\n"
     ]
    },
    {
     "name": "stderr",
     "output_type": "stream",
     "text": [
      "Epoch 82 [Train]: 100%|██████████| 276/276 [00:06<00:00, 43.58it/s]\n",
      "Epoch 82 [Valid]: 100%|██████████| 31/31 [00:00<00:00, 84.72it/s]\n"
     ]
    },
    {
     "name": "stdout",
     "output_type": "stream",
     "text": [
      "Epoch 82 | Train Loss: 0.7968 | Val Loss: 0.6603\n",
      "Saved best model\n"
     ]
    },
    {
     "name": "stderr",
     "output_type": "stream",
     "text": [
      "Epoch 83 [Train]: 100%|██████████| 276/276 [00:06<00:00, 43.68it/s]\n",
      "Epoch 83 [Valid]: 100%|██████████| 31/31 [00:00<00:00, 87.50it/s]\n"
     ]
    },
    {
     "name": "stdout",
     "output_type": "stream",
     "text": [
      "Epoch 83 | Train Loss: 0.7927 | Val Loss: 0.6736\n",
      "No improvement. Patience: 1/5\n"
     ]
    },
    {
     "name": "stderr",
     "output_type": "stream",
     "text": [
      "Epoch 84 [Train]: 100%|██████████| 276/276 [00:06<00:00, 43.69it/s]\n",
      "Epoch 84 [Valid]: 100%|██████████| 31/31 [00:00<00:00, 87.83it/s]\n"
     ]
    },
    {
     "name": "stdout",
     "output_type": "stream",
     "text": [
      "Epoch 84 | Train Loss: 0.7942 | Val Loss: 0.6563\n",
      "Saved best model\n"
     ]
    },
    {
     "name": "stderr",
     "output_type": "stream",
     "text": [
      "Epoch 85 [Train]: 100%|██████████| 276/276 [00:06<00:00, 44.18it/s]\n",
      "Epoch 85 [Valid]: 100%|██████████| 31/31 [00:00<00:00, 88.89it/s]\n"
     ]
    },
    {
     "name": "stdout",
     "output_type": "stream",
     "text": [
      "Epoch 85 | Train Loss: 0.7866 | Val Loss: 0.6570\n",
      "No improvement. Patience: 1/5\n"
     ]
    },
    {
     "name": "stderr",
     "output_type": "stream",
     "text": [
      "Epoch 86 [Train]: 100%|██████████| 276/276 [00:06<00:00, 43.81it/s]\n",
      "Epoch 86 [Valid]: 100%|██████████| 31/31 [00:00<00:00, 89.17it/s]\n"
     ]
    },
    {
     "name": "stdout",
     "output_type": "stream",
     "text": [
      "Epoch 86 | Train Loss: 0.7837 | Val Loss: 0.6487\n",
      "Saved best model\n"
     ]
    },
    {
     "name": "stderr",
     "output_type": "stream",
     "text": [
      "Epoch 87 [Train]: 100%|██████████| 276/276 [00:06<00:00, 44.14it/s]\n",
      "Epoch 87 [Valid]: 100%|██████████| 31/31 [00:00<00:00, 88.35it/s]\n"
     ]
    },
    {
     "name": "stdout",
     "output_type": "stream",
     "text": [
      "Epoch 87 | Train Loss: 0.7786 | Val Loss: 0.6480\n",
      "Saved best model\n"
     ]
    },
    {
     "name": "stderr",
     "output_type": "stream",
     "text": [
      "Epoch 88 [Train]: 100%|██████████| 276/276 [00:06<00:00, 44.19it/s]\n",
      "Epoch 88 [Valid]: 100%|██████████| 31/31 [00:00<00:00, 89.12it/s]\n"
     ]
    },
    {
     "name": "stdout",
     "output_type": "stream",
     "text": [
      "Epoch 88 | Train Loss: 0.7771 | Val Loss: 0.6510\n",
      "No improvement. Patience: 1/5\n"
     ]
    },
    {
     "name": "stderr",
     "output_type": "stream",
     "text": [
      "Epoch 89 [Train]: 100%|██████████| 276/276 [00:06<00:00, 44.12it/s]\n",
      "Epoch 89 [Valid]: 100%|██████████| 31/31 [00:00<00:00, 88.11it/s]\n"
     ]
    },
    {
     "name": "stdout",
     "output_type": "stream",
     "text": [
      "Epoch 89 | Train Loss: 0.7726 | Val Loss: 0.6613\n",
      "No improvement. Patience: 2/5\n"
     ]
    },
    {
     "name": "stderr",
     "output_type": "stream",
     "text": [
      "Epoch 90 [Train]: 100%|██████████| 276/276 [00:06<00:00, 44.24it/s]\n",
      "Epoch 90 [Valid]: 100%|██████████| 31/31 [00:00<00:00, 89.55it/s]\n"
     ]
    },
    {
     "name": "stdout",
     "output_type": "stream",
     "text": [
      "Epoch 90 | Train Loss: 0.7824 | Val Loss: 0.6447\n",
      "Saved best model\n"
     ]
    },
    {
     "name": "stderr",
     "output_type": "stream",
     "text": [
      "Epoch 91 [Train]: 100%|██████████| 276/276 [00:06<00:00, 43.94it/s]\n",
      "Epoch 91 [Valid]: 100%|██████████| 31/31 [00:00<00:00, 89.21it/s]\n"
     ]
    },
    {
     "name": "stdout",
     "output_type": "stream",
     "text": [
      "Epoch 91 | Train Loss: 0.7725 | Val Loss: 0.6507\n",
      "No improvement. Patience: 1/5\n"
     ]
    },
    {
     "name": "stderr",
     "output_type": "stream",
     "text": [
      "Epoch 92 [Train]: 100%|██████████| 276/276 [00:06<00:00, 44.15it/s]\n",
      "Epoch 92 [Valid]: 100%|██████████| 31/31 [00:00<00:00, 89.24it/s]\n"
     ]
    },
    {
     "name": "stdout",
     "output_type": "stream",
     "text": [
      "Epoch 92 | Train Loss: 0.7664 | Val Loss: 0.6367\n",
      "Saved best model\n"
     ]
    },
    {
     "name": "stderr",
     "output_type": "stream",
     "text": [
      "Epoch 93 [Train]: 100%|██████████| 276/276 [00:06<00:00, 44.16it/s]\n",
      "Epoch 93 [Valid]: 100%|██████████| 31/31 [00:00<00:00, 87.94it/s]\n"
     ]
    },
    {
     "name": "stdout",
     "output_type": "stream",
     "text": [
      "Epoch 93 | Train Loss: 0.7668 | Val Loss: 0.6404\n",
      "No improvement. Patience: 1/5\n"
     ]
    },
    {
     "name": "stderr",
     "output_type": "stream",
     "text": [
      "Epoch 94 [Train]: 100%|██████████| 276/276 [00:06<00:00, 43.81it/s]\n",
      "Epoch 94 [Valid]: 100%|██████████| 31/31 [00:00<00:00, 88.95it/s]\n"
     ]
    },
    {
     "name": "stdout",
     "output_type": "stream",
     "text": [
      "Epoch 94 | Train Loss: 0.7680 | Val Loss: 0.6347\n",
      "Saved best model\n"
     ]
    },
    {
     "name": "stderr",
     "output_type": "stream",
     "text": [
      "Epoch 95 [Train]: 100%|██████████| 276/276 [00:06<00:00, 44.35it/s]\n",
      "Epoch 95 [Valid]: 100%|██████████| 31/31 [00:00<00:00, 88.87it/s]\n"
     ]
    },
    {
     "name": "stdout",
     "output_type": "stream",
     "text": [
      "Epoch 95 | Train Loss: 0.7625 | Val Loss: 0.6391\n",
      "No improvement. Patience: 1/5\n"
     ]
    },
    {
     "name": "stderr",
     "output_type": "stream",
     "text": [
      "Epoch 96 [Train]: 100%|██████████| 276/276 [00:06<00:00, 44.14it/s]\n",
      "Epoch 96 [Valid]: 100%|██████████| 31/31 [00:00<00:00, 88.96it/s]\n"
     ]
    },
    {
     "name": "stdout",
     "output_type": "stream",
     "text": [
      "Epoch 96 | Train Loss: 0.7580 | Val Loss: 0.6380\n",
      "No improvement. Patience: 2/5\n"
     ]
    },
    {
     "name": "stderr",
     "output_type": "stream",
     "text": [
      "Epoch 97 [Train]: 100%|██████████| 276/276 [00:06<00:00, 44.12it/s]\n",
      "Epoch 97 [Valid]: 100%|██████████| 31/31 [00:00<00:00, 89.39it/s]\n"
     ]
    },
    {
     "name": "stdout",
     "output_type": "stream",
     "text": [
      "Epoch 97 | Train Loss: 0.7584 | Val Loss: 0.6242\n",
      "Saved best model\n"
     ]
    },
    {
     "name": "stderr",
     "output_type": "stream",
     "text": [
      "Epoch 98 [Train]: 100%|██████████| 276/276 [00:06<00:00, 44.28it/s]\n",
      "Epoch 98 [Valid]: 100%|██████████| 31/31 [00:00<00:00, 88.87it/s]\n"
     ]
    },
    {
     "name": "stdout",
     "output_type": "stream",
     "text": [
      "Epoch 98 | Train Loss: 0.7578 | Val Loss: 0.6267\n",
      "No improvement. Patience: 1/5\n"
     ]
    },
    {
     "name": "stderr",
     "output_type": "stream",
     "text": [
      "Epoch 99 [Train]: 100%|██████████| 276/276 [00:06<00:00, 44.00it/s]\n",
      "Epoch 99 [Valid]: 100%|██████████| 31/31 [00:00<00:00, 90.44it/s]\n"
     ]
    },
    {
     "name": "stdout",
     "output_type": "stream",
     "text": [
      "Epoch 99 | Train Loss: 0.7534 | Val Loss: 0.6221\n",
      "Saved best model\n"
     ]
    },
    {
     "name": "stderr",
     "output_type": "stream",
     "text": [
      "Epoch 100 [Train]: 100%|██████████| 276/276 [00:06<00:00, 44.35it/s]\n",
      "Epoch 100 [Valid]: 100%|██████████| 31/31 [00:00<00:00, 89.60it/s]\n"
     ]
    },
    {
     "name": "stdout",
     "output_type": "stream",
     "text": [
      "Epoch 100 | Train Loss: 0.7479 | Val Loss: 0.6194\n",
      "Saved best model\n"
     ]
    },
    {
     "name": "stderr",
     "output_type": "stream",
     "text": [
      "Epoch 101 [Train]: 100%|██████████| 276/276 [00:06<00:00, 44.08it/s]\n",
      "Epoch 101 [Valid]: 100%|██████████| 31/31 [00:00<00:00, 88.39it/s]\n"
     ]
    },
    {
     "name": "stdout",
     "output_type": "stream",
     "text": [
      "Epoch 101 | Train Loss: 0.7513 | Val Loss: 0.6265\n",
      "No improvement. Patience: 1/5\n"
     ]
    },
    {
     "name": "stderr",
     "output_type": "stream",
     "text": [
      "Epoch 102 [Train]: 100%|██████████| 276/276 [00:06<00:00, 44.24it/s]\n",
      "Epoch 102 [Valid]: 100%|██████████| 31/31 [00:00<00:00, 88.82it/s]\n"
     ]
    },
    {
     "name": "stdout",
     "output_type": "stream",
     "text": [
      "Epoch 102 | Train Loss: 0.7516 | Val Loss: 0.6155\n",
      "Saved best model\n"
     ]
    },
    {
     "name": "stderr",
     "output_type": "stream",
     "text": [
      "Epoch 103 [Train]: 100%|██████████| 276/276 [00:06<00:00, 44.07it/s]\n",
      "Epoch 103 [Valid]: 100%|██████████| 31/31 [00:00<00:00, 88.99it/s]\n"
     ]
    },
    {
     "name": "stdout",
     "output_type": "stream",
     "text": [
      "Epoch 103 | Train Loss: 0.7427 | Val Loss: 0.6301\n",
      "No improvement. Patience: 1/5\n"
     ]
    },
    {
     "name": "stderr",
     "output_type": "stream",
     "text": [
      "Epoch 104 [Train]: 100%|██████████| 276/276 [00:06<00:00, 43.91it/s]\n",
      "Epoch 104 [Valid]: 100%|██████████| 31/31 [00:00<00:00, 89.33it/s]\n"
     ]
    },
    {
     "name": "stdout",
     "output_type": "stream",
     "text": [
      "Epoch 104 | Train Loss: 0.7429 | Val Loss: 0.6100\n",
      "Saved best model\n"
     ]
    },
    {
     "name": "stderr",
     "output_type": "stream",
     "text": [
      "Epoch 105 [Train]: 100%|██████████| 276/276 [00:06<00:00, 44.32it/s]\n",
      "Epoch 105 [Valid]: 100%|██████████| 31/31 [00:00<00:00, 89.23it/s]\n"
     ]
    },
    {
     "name": "stdout",
     "output_type": "stream",
     "text": [
      "Epoch 105 | Train Loss: 0.7374 | Val Loss: 0.6068\n",
      "Saved best model\n"
     ]
    },
    {
     "name": "stderr",
     "output_type": "stream",
     "text": [
      "Epoch 106 [Train]: 100%|██████████| 276/276 [00:06<00:00, 43.91it/s]\n",
      "Epoch 106 [Valid]: 100%|██████████| 31/31 [00:00<00:00, 88.85it/s]\n"
     ]
    },
    {
     "name": "stdout",
     "output_type": "stream",
     "text": [
      "Epoch 106 | Train Loss: 0.7394 | Val Loss: 0.6177\n",
      "No improvement. Patience: 1/5\n"
     ]
    },
    {
     "name": "stderr",
     "output_type": "stream",
     "text": [
      "Epoch 107 [Train]: 100%|██████████| 276/276 [00:06<00:00, 44.27it/s]\n",
      "Epoch 107 [Valid]: 100%|██████████| 31/31 [00:00<00:00, 89.09it/s]\n"
     ]
    },
    {
     "name": "stdout",
     "output_type": "stream",
     "text": [
      "Epoch 107 | Train Loss: 0.7323 | Val Loss: 0.6174\n",
      "No improvement. Patience: 2/5\n"
     ]
    },
    {
     "name": "stderr",
     "output_type": "stream",
     "text": [
      "Epoch 108 [Train]: 100%|██████████| 276/276 [00:06<00:00, 44.25it/s]\n",
      "Epoch 108 [Valid]: 100%|██████████| 31/31 [00:00<00:00, 87.40it/s]\n"
     ]
    },
    {
     "name": "stdout",
     "output_type": "stream",
     "text": [
      "Epoch 108 | Train Loss: 0.7297 | Val Loss: 0.6095\n",
      "No improvement. Patience: 3/5\n"
     ]
    },
    {
     "name": "stderr",
     "output_type": "stream",
     "text": [
      "Epoch 109 [Train]: 100%|██████████| 276/276 [00:06<00:00, 43.23it/s]\n",
      "Epoch 109 [Valid]: 100%|██████████| 31/31 [00:00<00:00, 88.06it/s]\n"
     ]
    },
    {
     "name": "stdout",
     "output_type": "stream",
     "text": [
      "Epoch 109 | Train Loss: 0.7185 | Val Loss: 0.6071\n",
      "No improvement. Patience: 4/5\n"
     ]
    },
    {
     "name": "stderr",
     "output_type": "stream",
     "text": [
      "Epoch 110 [Train]: 100%|██████████| 276/276 [00:06<00:00, 43.70it/s]\n",
      "Epoch 110 [Valid]: 100%|██████████| 31/31 [00:00<00:00, 86.60it/s]\n"
     ]
    },
    {
     "name": "stdout",
     "output_type": "stream",
     "text": [
      "Epoch 110 | Train Loss: 0.7195 | Val Loss: 0.5930\n",
      "Saved best model\n"
     ]
    },
    {
     "name": "stderr",
     "output_type": "stream",
     "text": [
      "Epoch 111 [Train]: 100%|██████████| 276/276 [00:06<00:00, 43.12it/s]\n",
      "Epoch 111 [Valid]: 100%|██████████| 31/31 [00:00<00:00, 88.47it/s]\n"
     ]
    },
    {
     "name": "stdout",
     "output_type": "stream",
     "text": [
      "Epoch 111 | Train Loss: 0.7152 | Val Loss: 0.6049\n",
      "No improvement. Patience: 1/5\n"
     ]
    },
    {
     "name": "stderr",
     "output_type": "stream",
     "text": [
      "Epoch 112 [Train]: 100%|██████████| 276/276 [00:06<00:00, 43.69it/s]\n",
      "Epoch 112 [Valid]: 100%|██████████| 31/31 [00:00<00:00, 81.83it/s]\n"
     ]
    },
    {
     "name": "stdout",
     "output_type": "stream",
     "text": [
      "Epoch 112 | Train Loss: 0.7160 | Val Loss: 0.5960\n",
      "No improvement. Patience: 2/5\n"
     ]
    },
    {
     "name": "stderr",
     "output_type": "stream",
     "text": [
      "Epoch 113 [Train]: 100%|██████████| 276/276 [00:06<00:00, 42.70it/s]\n",
      "Epoch 113 [Valid]: 100%|██████████| 31/31 [00:00<00:00, 85.52it/s]\n"
     ]
    },
    {
     "name": "stdout",
     "output_type": "stream",
     "text": [
      "Epoch 113 | Train Loss: 0.7150 | Val Loss: 0.5947\n",
      "No improvement. Patience: 3/5\n"
     ]
    },
    {
     "name": "stderr",
     "output_type": "stream",
     "text": [
      "Epoch 114 [Train]: 100%|██████████| 276/276 [00:06<00:00, 43.58it/s]\n",
      "Epoch 114 [Valid]: 100%|██████████| 31/31 [00:00<00:00, 88.97it/s]\n"
     ]
    },
    {
     "name": "stdout",
     "output_type": "stream",
     "text": [
      "Epoch 114 | Train Loss: 0.7093 | Val Loss: 0.5900\n",
      "Saved best model\n"
     ]
    },
    {
     "name": "stderr",
     "output_type": "stream",
     "text": [
      "Epoch 115 [Train]: 100%|██████████| 276/276 [00:06<00:00, 43.65it/s]\n",
      "Epoch 115 [Valid]: 100%|██████████| 31/31 [00:00<00:00, 85.65it/s]\n"
     ]
    },
    {
     "name": "stdout",
     "output_type": "stream",
     "text": [
      "Epoch 115 | Train Loss: 0.7079 | Val Loss: 0.5891\n",
      "Saved best model\n"
     ]
    },
    {
     "name": "stderr",
     "output_type": "stream",
     "text": [
      "Epoch 116 [Train]: 100%|██████████| 276/276 [00:06<00:00, 43.42it/s]\n",
      "Epoch 116 [Valid]: 100%|██████████| 31/31 [00:00<00:00, 81.04it/s]\n"
     ]
    },
    {
     "name": "stdout",
     "output_type": "stream",
     "text": [
      "Epoch 116 | Train Loss: 0.7076 | Val Loss: 0.5867\n",
      "Saved best model\n"
     ]
    },
    {
     "name": "stderr",
     "output_type": "stream",
     "text": [
      "Epoch 117 [Train]: 100%|██████████| 276/276 [00:06<00:00, 43.21it/s]\n",
      "Epoch 117 [Valid]: 100%|██████████| 31/31 [00:00<00:00, 86.31it/s]\n"
     ]
    },
    {
     "name": "stdout",
     "output_type": "stream",
     "text": [
      "Epoch 117 | Train Loss: 0.7057 | Val Loss: 0.5850\n",
      "Saved best model\n"
     ]
    },
    {
     "name": "stderr",
     "output_type": "stream",
     "text": [
      "Epoch 118 [Train]: 100%|██████████| 276/276 [00:06<00:00, 43.00it/s]\n",
      "Epoch 118 [Valid]: 100%|██████████| 31/31 [00:00<00:00, 89.49it/s]\n"
     ]
    },
    {
     "name": "stdout",
     "output_type": "stream",
     "text": [
      "Epoch 118 | Train Loss: 0.7044 | Val Loss: 0.5868\n",
      "No improvement. Patience: 1/5\n"
     ]
    },
    {
     "name": "stderr",
     "output_type": "stream",
     "text": [
      "Epoch 119 [Train]: 100%|██████████| 276/276 [00:06<00:00, 43.60it/s]\n",
      "Epoch 119 [Valid]: 100%|██████████| 31/31 [00:00<00:00, 88.41it/s]\n"
     ]
    },
    {
     "name": "stdout",
     "output_type": "stream",
     "text": [
      "Epoch 119 | Train Loss: 0.7056 | Val Loss: 0.5859\n",
      "No improvement. Patience: 2/5\n"
     ]
    },
    {
     "name": "stderr",
     "output_type": "stream",
     "text": [
      "Epoch 120 [Train]: 100%|██████████| 276/276 [00:06<00:00, 43.81it/s]\n",
      "Epoch 120 [Valid]: 100%|██████████| 31/31 [00:00<00:00, 87.29it/s]\n"
     ]
    },
    {
     "name": "stdout",
     "output_type": "stream",
     "text": [
      "Epoch 120 | Train Loss: 0.7043 | Val Loss: 0.5877\n",
      "No improvement. Patience: 3/5\n"
     ]
    },
    {
     "name": "stderr",
     "output_type": "stream",
     "text": [
      "Epoch 121 [Train]: 100%|██████████| 276/276 [00:06<00:00, 43.39it/s]\n",
      "Epoch 121 [Valid]: 100%|██████████| 31/31 [00:00<00:00, 89.20it/s]\n"
     ]
    },
    {
     "name": "stdout",
     "output_type": "stream",
     "text": [
      "Epoch 121 | Train Loss: 0.7002 | Val Loss: 0.5817\n",
      "Saved best model\n"
     ]
    },
    {
     "name": "stderr",
     "output_type": "stream",
     "text": [
      "Epoch 122 [Train]: 100%|██████████| 276/276 [00:06<00:00, 43.92it/s]\n",
      "Epoch 122 [Valid]: 100%|██████████| 31/31 [00:00<00:00, 88.39it/s]\n"
     ]
    },
    {
     "name": "stdout",
     "output_type": "stream",
     "text": [
      "Epoch 122 | Train Loss: 0.7008 | Val Loss: 0.5829\n",
      "No improvement. Patience: 1/5\n"
     ]
    },
    {
     "name": "stderr",
     "output_type": "stream",
     "text": [
      "Epoch 123 [Train]: 100%|██████████| 276/276 [00:06<00:00, 43.61it/s]\n",
      "Epoch 123 [Valid]: 100%|██████████| 31/31 [00:00<00:00, 88.26it/s]\n"
     ]
    },
    {
     "name": "stdout",
     "output_type": "stream",
     "text": [
      "Epoch 123 | Train Loss: 0.7005 | Val Loss: 0.5839\n",
      "No improvement. Patience: 2/5\n"
     ]
    },
    {
     "name": "stderr",
     "output_type": "stream",
     "text": [
      "Epoch 124 [Train]: 100%|██████████| 276/276 [00:06<00:00, 43.79it/s]\n",
      "Epoch 124 [Valid]: 100%|██████████| 31/31 [00:00<00:00, 88.51it/s]\n"
     ]
    },
    {
     "name": "stdout",
     "output_type": "stream",
     "text": [
      "Epoch 124 | Train Loss: 0.7000 | Val Loss: 0.5832\n",
      "No improvement. Patience: 3/5\n"
     ]
    },
    {
     "name": "stderr",
     "output_type": "stream",
     "text": [
      "Epoch 125 [Train]: 100%|██████████| 276/276 [00:06<00:00, 43.65it/s]\n",
      "Epoch 125 [Valid]: 100%|██████████| 31/31 [00:00<00:00, 84.77it/s]\n"
     ]
    },
    {
     "name": "stdout",
     "output_type": "stream",
     "text": [
      "Epoch 125 | Train Loss: 0.6977 | Val Loss: 0.5819\n",
      "No improvement. Patience: 4/5\n"
     ]
    },
    {
     "name": "stderr",
     "output_type": "stream",
     "text": [
      "Epoch 126 [Train]: 100%|██████████| 276/276 [00:06<00:00, 43.78it/s]\n",
      "Epoch 126 [Valid]: 100%|██████████| 31/31 [00:00<00:00, 88.51it/s]\n"
     ]
    },
    {
     "name": "stdout",
     "output_type": "stream",
     "text": [
      "Epoch 126 | Train Loss: 0.6982 | Val Loss: 0.5812\n",
      "Saved best model\n"
     ]
    },
    {
     "name": "stderr",
     "output_type": "stream",
     "text": [
      "Epoch 127 [Train]: 100%|██████████| 276/276 [00:06<00:00, 43.80it/s]\n",
      "Epoch 127 [Valid]: 100%|██████████| 31/31 [00:00<00:00, 87.86it/s]\n"
     ]
    },
    {
     "name": "stdout",
     "output_type": "stream",
     "text": [
      "Epoch 127 | Train Loss: 0.6976 | Val Loss: 0.5807\n",
      "Saved best model\n"
     ]
    },
    {
     "name": "stderr",
     "output_type": "stream",
     "text": [
      "Epoch 128 [Train]: 100%|██████████| 276/276 [00:06<00:00, 43.43it/s]\n",
      "Epoch 128 [Valid]: 100%|██████████| 31/31 [00:00<00:00, 88.11it/s]\n"
     ]
    },
    {
     "name": "stdout",
     "output_type": "stream",
     "text": [
      "Epoch 128 | Train Loss: 0.6975 | Val Loss: 0.5823\n",
      "No improvement. Patience: 1/5\n"
     ]
    },
    {
     "name": "stderr",
     "output_type": "stream",
     "text": [
      "Epoch 129 [Train]: 100%|██████████| 276/276 [00:06<00:00, 43.78it/s]\n",
      "Epoch 129 [Valid]: 100%|██████████| 31/31 [00:00<00:00, 88.19it/s]\n"
     ]
    },
    {
     "name": "stdout",
     "output_type": "stream",
     "text": [
      "Epoch 129 | Train Loss: 0.6966 | Val Loss: 0.5806\n",
      "Saved best model\n"
     ]
    },
    {
     "name": "stderr",
     "output_type": "stream",
     "text": [
      "Epoch 130 [Train]: 100%|██████████| 276/276 [00:06<00:00, 43.53it/s]\n",
      "Epoch 130 [Valid]: 100%|██████████| 31/31 [00:00<00:00, 88.01it/s]\n"
     ]
    },
    {
     "name": "stdout",
     "output_type": "stream",
     "text": [
      "Epoch 130 | Train Loss: 0.6966 | Val Loss: 0.5797\n",
      "Saved best model\n"
     ]
    },
    {
     "name": "stderr",
     "output_type": "stream",
     "text": [
      "Epoch 131 [Train]: 100%|██████████| 276/276 [00:06<00:00, 43.61it/s]\n",
      "Epoch 131 [Valid]: 100%|██████████| 31/31 [00:00<00:00, 87.78it/s]\n"
     ]
    },
    {
     "name": "stdout",
     "output_type": "stream",
     "text": [
      "Epoch 131 | Train Loss: 0.6963 | Val Loss: 0.5806\n",
      "No improvement. Patience: 1/5\n"
     ]
    },
    {
     "name": "stderr",
     "output_type": "stream",
     "text": [
      "Epoch 132 [Train]: 100%|██████████| 276/276 [00:06<00:00, 43.68it/s]\n",
      "Epoch 132 [Valid]: 100%|██████████| 31/31 [00:00<00:00, 87.81it/s]\n"
     ]
    },
    {
     "name": "stdout",
     "output_type": "stream",
     "text": [
      "Epoch 132 | Train Loss: 0.6966 | Val Loss: 0.5793\n",
      "Saved best model\n"
     ]
    },
    {
     "name": "stderr",
     "output_type": "stream",
     "text": [
      "Epoch 133 [Train]: 100%|██████████| 276/276 [00:06<00:00, 43.64it/s]\n",
      "Epoch 133 [Valid]: 100%|██████████| 31/31 [00:00<00:00, 87.82it/s]\n"
     ]
    },
    {
     "name": "stdout",
     "output_type": "stream",
     "text": [
      "Epoch 133 | Train Loss: 0.6959 | Val Loss: 0.5793\n",
      "Saved best model\n"
     ]
    },
    {
     "name": "stderr",
     "output_type": "stream",
     "text": [
      "Epoch 134 [Train]: 100%|██████████| 276/276 [00:06<00:00, 43.88it/s]\n",
      "Epoch 134 [Valid]: 100%|██████████| 31/31 [00:00<00:00, 86.63it/s]\n"
     ]
    },
    {
     "name": "stdout",
     "output_type": "stream",
     "text": [
      "Epoch 134 | Train Loss: 0.6960 | Val Loss: 0.5797\n",
      "No improvement. Patience: 1/5\n"
     ]
    },
    {
     "name": "stderr",
     "output_type": "stream",
     "text": [
      "Epoch 135 [Train]: 100%|██████████| 276/276 [00:06<00:00, 43.44it/s]\n",
      "Epoch 135 [Valid]: 100%|██████████| 31/31 [00:00<00:00, 85.48it/s]\n"
     ]
    },
    {
     "name": "stdout",
     "output_type": "stream",
     "text": [
      "Epoch 135 | Train Loss: 0.6957 | Val Loss: 0.5811\n",
      "No improvement. Patience: 2/5\n",
      "Exported to ONNX\n"
     ]
    }
   ],
   "source": [
    "# TERRAIN TRANSFORMER - OPTIMIZED FOR SPEED ON RTX 4070 WITH PREPROCESSED DATA\n",
    "\n",
    "import os\n",
    "import torch\n",
    "import torch.nn as nn\n",
    "import torch.nn.functional as F\n",
    "import torch.optim as optim\n",
    "import json\n",
    "import numpy as np\n",
    "from torch.utils.data import Dataset, DataLoader\n",
    "from sklearn.preprocessing import LabelEncoder\n",
    "import pickle\n",
    "from tqdm import tqdm\n",
    "import gc\n",
    "\n",
    "# === CONFIGURATION ===\n",
    "DATA_DIR = 'preprocessed_chunks'  # Use preprocessed .pt files\n",
    "LABEL_ENCODER_PATH = 'label_encoders.pkl'\n",
    "CHUNK_WIDTH, CHUNK_HEIGHT, CHUNK_DEPTH = 16, 256, 16\n",
    "SUB_CHUNK_HEIGHT = 32\n",
    "BATCH_SIZE = 6\n",
    "EMBED_DIM = 80 # Turn up as data increases (32 --> 48 --> 64 --> 80)\n",
    "NUM_HEADS = 8 # Turn up as data increases and experiment accordingly\n",
    "NUM_LAYERS = 6 # Turn up as data increases (started at 3)\n",
    "NUM_EPOCHS = 135\n",
    "LEARNING_RATE = 1e-4\n",
    "PATIENCE = 5\n",
    "USE_AMP = True\n",
    "\n",
    "device = torch.device(\"cuda\" if torch.cuda.is_available() else \"cpu\")\n",
    "print(f\"Using device: {device}\")\n",
    "\n",
    "# === DATASET ===\n",
    "class PreprocessedChunkDataset(Dataset):\n",
    "    def __init__(self, files, training=True):\n",
    "        self.files = files\n",
    "        self.training = training\n",
    "\n",
    "    def __len__(self):\n",
    "        return len(self.files)\n",
    "\n",
    "    def __getitem__(self, idx):\n",
    "        try:\n",
    "            x, y = torch.load(self.files[idx])\n",
    "            if self.training and torch.rand(1).item() > 0.5:\n",
    "                if torch.rand(1).item() > 0.5:\n",
    "                    x = torch.flip(x, [1])\n",
    "                    y = torch.flip(y, [0])\n",
    "                if torch.rand(1).item() > 0.5:\n",
    "                    x = torch.flip(x, [3])\n",
    "                    y = torch.flip(y, [2])\n",
    "            return x, y\n",
    "        except Exception as e:\n",
    "            print(f\"[ERROR] Failed loading {self.files[idx]}: {e}\")\n",
    "            return torch.zeros((10, CHUNK_WIDTH, SUB_CHUNK_HEIGHT, CHUNK_DEPTH)), torch.full((CHUNK_WIDTH, SUB_CHUNK_HEIGHT, CHUNK_DEPTH), -1)\n",
    "\n",
    "# === POSITIONAL ENCODING ===\n",
    "class FastPositionalEncoding3D(nn.Module):\n",
    "    def __init__(self, channels):\n",
    "        super().__init__()\n",
    "        self.conv_pos = nn.Conv3d(3, channels, kernel_size=1)\n",
    "\n",
    "    def forward(self, x):\n",
    "        B, C, X, Y, Z = x.shape\n",
    "        pos_x = torch.linspace(0, 1, X, device=x.device)\n",
    "        pos_y = torch.linspace(0, 1, Y, device=x.device)\n",
    "        pos_z = torch.linspace(0, 1, Z, device=x.device)\n",
    "        grid_x, grid_y, grid_z = torch.meshgrid(pos_x, pos_y, pos_z, indexing='ij')\n",
    "        pos = torch.stack([grid_x, grid_y, grid_z], dim=0).unsqueeze(0).expand(B, -1, -1, -1, -1)\n",
    "        return x + self.conv_pos(pos)\n",
    "\n",
    "# === ATTENTION BLOCK ===\n",
    "class FastAttentionBlock(nn.Module):\n",
    "    def __init__(self, dim):\n",
    "        super().__init__()\n",
    "        self.norm = nn.GroupNorm(4, dim)\n",
    "        self.spatial_mixer = nn.Sequential(\n",
    "            nn.Conv3d(dim, dim, 3, padding=1, groups=dim), nn.GELU(), nn.Conv3d(dim, dim, 1)\n",
    "        )\n",
    "        self.channel_mixer = nn.Sequential(\n",
    "            nn.Conv3d(dim, dim*2, 1), nn.GELU(), nn.Conv3d(dim*2, dim, 1)\n",
    "        )\n",
    "\n",
    "    def forward(self, x):\n",
    "        x_norm = self.norm(x)\n",
    "        x = x + self.spatial_mixer(x_norm)\n",
    "        x = x + self.channel_mixer(self.norm(x))\n",
    "        return x\n",
    "\n",
    "# === MODEL ===\n",
    "class FastTerrainTransformer(nn.Module):\n",
    "    def __init__(self, in_channels, embed_dim, num_layers, num_classes):\n",
    "        super().__init__()\n",
    "        self.embedding = nn.Sequential(\n",
    "            nn.Conv3d(in_channels, embed_dim, 3, padding=1), nn.GELU()\n",
    "        )\n",
    "        self.pos_encoding = FastPositionalEncoding3D(embed_dim)\n",
    "        self.blocks = nn.ModuleList([FastAttentionBlock(embed_dim) for _ in range(num_layers)])\n",
    "        self.output = nn.Sequential(\n",
    "            nn.GroupNorm(4, embed_dim), nn.Conv3d(embed_dim, num_classes, 1)\n",
    "        )\n",
    "\n",
    "    def forward(self, x):\n",
    "        x = self.embedding(x)\n",
    "        x = self.pos_encoding(x)\n",
    "        for block in self.blocks:\n",
    "            x = block(x)\n",
    "        return self.output(x)\n",
    "\n",
    "# === LOAD LABEL ENCODERS ===\n",
    "with open(LABEL_ENCODER_PATH, 'rb') as f:\n",
    "    label_encoders = pickle.load(f)\n",
    "\n",
    "num_classes = len(label_encoders['Block_ID'].classes_)\n",
    "\n",
    "# === LOAD DATA ===\n",
    "all_files = [os.path.join(DATA_DIR, f) for f in os.listdir(DATA_DIR) if f.endswith('.pt')]\n",
    "val_split = 0.1\n",
    "val_count = int(len(all_files) * val_split)\n",
    "train_files = all_files[val_count:]\n",
    "val_files = all_files[:val_count]\n",
    "\n",
    "train_ds = PreprocessedChunkDataset(train_files, training=True)\n",
    "val_ds = PreprocessedChunkDataset(val_files, training=False)\n",
    "\n",
    "# === TEMP: Use num_workers=0 to debug dataloader errors ===\n",
    "train_loader = DataLoader(train_ds, batch_size=BATCH_SIZE, shuffle=True, num_workers=0, pin_memory=True, drop_last=True)\n",
    "val_loader = DataLoader(val_ds, batch_size=BATCH_SIZE, shuffle=False, num_workers=0, pin_memory=True)\n",
    "\n",
    "# === TRAIN ===\n",
    "model = FastTerrainTransformer(10, EMBED_DIM, NUM_LAYERS, num_classes).to(device)\n",
    "optimizer = optim.AdamW(model.parameters(), lr=LEARNING_RATE)\n",
    "criterion = nn.CrossEntropyLoss(ignore_index=-1)\n",
    "scheduler = optim.lr_scheduler.ReduceLROnPlateau(optimizer, mode='min', factor=0.5, patience=2)\n",
    "scaler = torch.cuda.amp.GradScaler(enabled=USE_AMP)\n",
    "\n",
    "best_val_loss = float('inf')\n",
    "patience_counter = 0\n",
    "\n",
    "for epoch in range(NUM_EPOCHS):\n",
    "    model.train()\n",
    "    total_loss = 0\n",
    "    for batch_X, batch_y in tqdm(train_loader, desc=f\"Epoch {epoch+1} [Train]\"):\n",
    "        batch_X, batch_y = batch_X.to(device), batch_y.to(device)\n",
    "        optimizer.zero_grad()\n",
    "        with torch.cuda.amp.autocast(enabled=USE_AMP):\n",
    "            logits = model(batch_X)\n",
    "            loss = criterion(logits.view(-1, num_classes), batch_y.view(-1))\n",
    "        scaler.scale(loss).backward()\n",
    "        scaler.step(optimizer)\n",
    "        scaler.update()\n",
    "        total_loss += loss.item()\n",
    "    avg_train_loss = total_loss / len(train_loader)\n",
    "\n",
    "    model.eval()\n",
    "    val_loss = 0\n",
    "    with torch.no_grad():\n",
    "        for batch_X, batch_y in tqdm(val_loader, desc=f\"Epoch {epoch+1} [Valid]\"):\n",
    "            batch_X, batch_y = batch_X.to(device), batch_y.to(device)\n",
    "            logits = model(batch_X)\n",
    "            loss = criterion(logits.view(-1, num_classes), batch_y.view(-1))\n",
    "            val_loss += loss.item()\n",
    "    avg_val_loss = val_loss / len(val_loader)\n",
    "\n",
    "    print(f\"Epoch {epoch+1} | Train Loss: {avg_train_loss:.4f} | Val Loss: {avg_val_loss:.4f}\")\n",
    "    scheduler.step(avg_val_loss)\n",
    "\n",
    "    if avg_val_loss < best_val_loss:\n",
    "        best_val_loss = avg_val_loss\n",
    "        patience_counter = 0\n",
    "        torch.save(model.state_dict(), 'best_terrain_transformer.pth')\n",
    "        print(\"Saved best model\")\n",
    "    else:\n",
    "        patience_counter += 1\n",
    "        print(f\"No improvement. Patience: {patience_counter}/{PATIENCE}\")\n",
    "        if patience_counter >= PATIENCE:\n",
    "            print(\"Early stopping!\")\n",
    "            break\n",
    "\n",
    "# Export ONNX\n",
    "model.eval().to('cpu')\n",
    "dummy = torch.randn(1, 10, CHUNK_WIDTH, SUB_CHUNK_HEIGHT, CHUNK_DEPTH)\n",
    "torch.onnx.export(model, dummy, 'terrain_transformer_model.onnx', input_names=['input'], output_names=['output'], dynamic_axes={'input': {0: 'batch'}, 'output': {0: 'batch'}}, verbose=False)\n",
    "print(\"Exported to ONNX\")"
   ]
  },
  {
   "cell_type": "code",
   "execution_count": 3,
   "id": "a819c4dd-0fa6-49ad-8220-d31eaed517b1",
   "metadata": {},
   "outputs": [
    {
     "name": "stdout",
     "output_type": "stream",
     "text": [
      "✅ Saved block_id_mapping.json\n",
      "✅ Saved biome_id_mapping.json\n"
     ]
    }
   ],
   "source": [
    "# === EXPORT BLOCK AND BIOME MAPPINGS ===\n",
    "block_id_mapping = {\n",
    "    int(i): label_encoders['Block_ID'].classes_[i]\n",
    "    for i in range(len(label_encoders['Block_ID'].classes_))\n",
    "}\n",
    "with open('block_id_mapping.json', 'w') as f:\n",
    "    json.dump(block_id_mapping, f, indent=2)\n",
    "print(\"✅ Saved block_id_mapping.json\")\n",
    "\n",
    "biome_mapping = {\n",
    "    label_encoders['ChunkBiome'].classes_[i]: int(i)\n",
    "    for i in range(len(label_encoders['ChunkBiome'].classes_))\n",
    "}\n",
    "with open('biome_id_mapping.json', 'w') as f:\n",
    "    json.dump(biome_mapping, f, indent=2)\n",
    "print(\"✅ Saved biome_id_mapping.json\")"
   ]
  }
 ],
 "metadata": {
  "kernelspec": {
   "display_name": "Python 3 (ipykernel)",
   "language": "python",
   "name": "python3"
  },
  "language_info": {
   "codemirror_mode": {
    "name": "ipython",
    "version": 3
   },
   "file_extension": ".py",
   "mimetype": "text/x-python",
   "name": "python",
   "nbconvert_exporter": "python",
   "pygments_lexer": "ipython3",
   "version": "3.12.8"
  }
 },
 "nbformat": 4,
 "nbformat_minor": 5
}
